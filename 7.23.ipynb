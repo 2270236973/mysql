{
 "cells": [
  {
   "cell_type": "markdown",
   "metadata": {},
   "source": [
    "# 对象和类\n",
    "- 一个学生，一张桌子，一个圆都是对象\n",
    "- 对象是类的一个实例，你可以创建多个对象，创建类的一个实例过程被称为实例化，\n",
    "- 在Python中对象就是实例，而实例就是对象"
   ]
  },
  {
   "cell_type": "code",
   "execution_count": 8,
   "metadata": {},
   "outputs": [],
   "source": [
    "class joker:\n",
    "    pass"
   ]
  },
  {
   "cell_type": "code",
   "execution_count": 9,
   "metadata": {},
   "outputs": [
    {
     "data": {
      "text/plain": [
       "__main__.joker"
      ]
     },
     "execution_count": 9,
     "metadata": {},
     "output_type": "execute_result"
    }
   ],
   "source": [
    "joker"
   ]
  },
  {
   "cell_type": "markdown",
   "metadata": {},
   "source": [
    "## 定义类\n",
    "class ClassName:\n",
    "\n",
    "    do something\n",
    "    \n",
    "- class 类的表示与def 一样\n",
    "- 类名最好使用驼峰式\n",
    "- 在Python2中类是需要继承基类object的，在Python中默认继承，可写可不写\n",
    "- 可以将普通代码理解为皮肤，而函数可以理解为内衣，那么类可以理解为外套"
   ]
  },
  {
   "cell_type": "code",
   "execution_count": null,
   "metadata": {},
   "outputs": [],
   "source": []
  },
  {
   "cell_type": "markdown",
   "metadata": {},
   "source": [
    "## 定义一个不含初始化__init__的简单类\n",
    "class ClassName:\n",
    "\n",
    "    joker = “Home”\n",
    "    \n",
    "    def func():\n",
    "        print('Worker')\n",
    "    \n",
    "- 尽量少使用"
   ]
  },
  {
   "cell_type": "code",
   "execution_count": 15,
   "metadata": {},
   "outputs": [],
   "source": [
    "#一切类必需要要初始化！！！\n",
    "#在类中，所有函数的第一个参数，都是标识量，不是参数\n",
    "#若某一个参数需要多次使用，那么可以将其统一放在初始化函数中\n",
    "class Joker:\n",
    "    def __init__(self,num1,num2):\n",
    "        print('我初始化')\n",
    "    def Print_(self,name):\n",
    "        print('Hello world',name)\n",
    "    def SUM(self,num1,num2):\n",
    "        return num1 + num2\n",
    "    def cheng(self,num1,num2):\n",
    "        return num1 * num2"
   ]
  },
  {
   "cell_type": "code",
   "execution_count": 19,
   "metadata": {},
   "outputs": [
    {
     "ename": "NameError",
     "evalue": "name 'self' is not defined",
     "output_type": "error",
     "traceback": [
      "\u001b[1;31m---------------------------------------------------------------------------\u001b[0m",
      "\u001b[1;31mNameError\u001b[0m                                 Traceback (most recent call last)",
      "\u001b[1;32m<ipython-input-19-5e07128bb92e>\u001b[0m in \u001b[0;36m<module>\u001b[1;34m\u001b[0m\n\u001b[1;32m----> 1\u001b[1;33m \u001b[0mhuwang\u001b[0m\u001b[1;33m=\u001b[0m\u001b[0mJoker\u001b[0m\u001b[1;33m(\u001b[0m\u001b[0mself\u001b[0m\u001b[1;33m)\u001b[0m\u001b[1;33m\u001b[0m\u001b[1;33m\u001b[0m\u001b[0m\n\u001b[0m",
      "\u001b[1;31mNameError\u001b[0m: name 'self' is not defined"
     ]
    }
   ],
   "source": [
    "huwang=Joker(self)"
   ]
  },
  {
   "cell_type": "code",
   "execution_count": 13,
   "metadata": {},
   "outputs": [],
   "source": [
    "#一切类必需要要初始化！！！\n",
    "#在类中，所有函数的第一个参数，都是标识量，不是参数\n",
    "#若某一个参数需要多次使用，那么可以将其统一放在初始化函数中\n",
    "class Joker:\n",
    "    def __init__(self,num1,num2):\n",
    "        print('我初始化')\n",
    "        self.num1 = num1\n",
    "        self.num2 = num2\n",
    "    def Print_(self,name):\n",
    "        print('Hello world',name)\n",
    "    def SUM(self):\n",
    "        return self.num1 + self.num2\n",
    "    def cheng(self):\n",
    "        return self.num1 * self.num2       "
   ]
  },
  {
   "cell_type": "code",
   "execution_count": 11,
   "metadata": {},
   "outputs": [
    {
     "name": "stdout",
     "output_type": "stream",
     "text": [
      "我初始化\n"
     ]
    }
   ],
   "source": [
    "huwang=Joker(num1=1,num2=2)"
   ]
  },
  {
   "cell_type": "markdown",
   "metadata": {},
   "source": [
    "\n",
    "\n",
    "## 定义一个标准类\n",
    "- __init__ 代表初始化，可以初始化任何动作\n",
    "- 此时类调用要使用()，其中（）可以理解为开始初始化\n",
    "- 初始化内的元素，类中其他的函数可以共享\n",
    "![](../Photo/85.png)"
   ]
  },
  {
   "cell_type": "code",
   "execution_count": 1,
   "metadata": {},
   "outputs": [],
   "source": [
    "#一切类必须要初始化\n",
    "#在类中，所有函数的第一个参数，都是标识量，不是参数\n",
    "#若某一个参数需要多次使用，那么可以将其统一放在初始化函数中\n",
    "class joker:\n",
    "    def __init__(self):\n",
    "        print('我开始初始化')\n",
    "    def print_(self,name):#必须要加self(标识)，否则调用不了\n",
    "        print('hello world',name)\n",
    "    def SUM(self,num1,num2):\n",
    "        return  num1+num2"
   ]
  },
  {
   "cell_type": "code",
   "execution_count": 2,
   "metadata": {},
   "outputs": [
    {
     "name": "stdout",
     "output_type": "stream",
     "text": [
      "我开始初始化\n"
     ]
    }
   ],
   "source": [
    "huwang=joker()"
   ]
  },
  {
   "cell_type": "code",
   "execution_count": 3,
   "metadata": {},
   "outputs": [
    {
     "name": "stdout",
     "output_type": "stream",
     "text": [
      "hello world name1\n"
     ]
    }
   ],
   "source": [
    "huwang.print_('name1')"
   ]
  },
  {
   "cell_type": "code",
   "execution_count": 4,
   "metadata": {},
   "outputs": [],
   "source": [
    "class joker:\n",
    "    def __init__(self,num1,num2):\n",
    "        print('我开始初始化')\n",
    "        self.num1=num1\n",
    "        self.num2=num2\n",
    "    def print_(self,name):\n",
    "        print('hello world',name)\n",
    "    def SUM(self):\n",
    "        return  self.num1+self.num2\n",
    "    def cheng(self):\n",
    "        return self.num1*self.num2"
   ]
  },
  {
   "cell_type": "code",
   "execution_count": 5,
   "metadata": {},
   "outputs": [
    {
     "name": "stdout",
     "output_type": "stream",
     "text": [
      "我开始初始化\n"
     ]
    }
   ],
   "source": [
    "huwang=joker(num1=1,num2=2)#实力化一遍"
   ]
  },
  {
   "cell_type": "code",
   "execution_count": 6,
   "metadata": {},
   "outputs": [
    {
     "data": {
      "text/plain": [
       "3"
      ]
     },
     "execution_count": 6,
     "metadata": {},
     "output_type": "execute_result"
    }
   ],
   "source": [
    "huwang.SUM()"
   ]
  },
  {
   "cell_type": "code",
   "execution_count": 7,
   "metadata": {},
   "outputs": [
    {
     "data": {
      "text/plain": [
       "2"
      ]
     },
     "execution_count": 7,
     "metadata": {},
     "output_type": "execute_result"
    }
   ],
   "source": [
    "huwang.cheng()"
   ]
  },
  {
   "cell_type": "markdown",
   "metadata": {},
   "source": [
    "- Circle 和 className_ 的第一个区别有 __init__ 这个函数\n",
    "- 。。。。   第二个区别，类中的每一个函数都有self的这个“参数”"
   ]
  },
  {
   "cell_type": "markdown",
   "metadata": {},
   "source": [
    "## 何为self？\n",
    "- self 是指向对象本身的参数\n",
    "- self 只是一个命名规则，其实可以改变的，但是我们约定俗成的是self，也便于理解\n",
    "- 使用了self就可以访问类中定义的成员\n",
    "<img src=\"../Photo/86.png\"></img>"
   ]
  },
  {
   "cell_type": "markdown",
   "metadata": {},
   "source": [
    "## 使用类 Cirlcle"
   ]
  },
  {
   "cell_type": "markdown",
   "metadata": {},
   "source": [
    "## 类的传参\n",
    "- class ClassName:\n",
    "    \n",
    "        def __init__(self, para1,para2...)：\n",
    "            \n",
    "            self.para1 = para1\n",
    "            \n",
    "            self.para2 = para2"
   ]
  },
  {
   "cell_type": "markdown",
   "metadata": {},
   "source": [
    "## EP:\n",
    "- A：定义一个类，类中含有两个功能：\n",
    "    - 1、计算随机数的最大值\n",
    "    - 2、计算随机数的最小值\n",
    "- B：定义一个类，（类中函数的嵌套使用）\n",
    "    - 1、第一个函数的功能为：输入一个数字\n",
    "    - 2、第二个函数的功能为：使用第一个函数中得到的数字进行平方处理\n",
    "    - 3、第三个函数的功能为：得到平方处理后的数字 - 原来输入的数字，并打印结果"
   ]
  },
  {
   "cell_type": "code",
   "execution_count": null,
   "metadata": {},
   "outputs": [],
   "source": []
  },
  {
   "cell_type": "code",
   "execution_count": null,
   "metadata": {},
   "outputs": [],
   "source": [
    "import random"
   ]
  },
  {
   "cell_type": "code",
   "execution_count": null,
   "metadata": {},
   "outputs": [],
   "source": [
    "a=random.randint(0,10)\n",
    "b=random.randint(0,10)\n",
    "c=random.randint(0,10)"
   ]
  },
  {
   "cell_type": "code",
   "execution_count": 9,
   "metadata": {},
   "outputs": [],
   "source": [
    "class A:\n",
    "    def __init__(self,n1,n2,n3):\n",
    "        self.n1=n1\n",
    "        self.n2=n2\n",
    "        self.n3=n3\n",
    "        print('我开始初始化')\n",
    "    def max_(self):\n",
    "        return max(self.n1,self.n2,self.n3)\n",
    "    def min_(self):\n",
    "        return min(self.n1,self.n2,self.n3)"
   ]
  },
  {
   "cell_type": "code",
   "execution_count": 10,
   "metadata": {},
   "outputs": [
    {
     "name": "stdout",
     "output_type": "stream",
     "text": [
      "我开始初始化\n"
     ]
    }
   ],
   "source": [
    "TT=A(n1=2,n2=3,n3=5)"
   ]
  },
  {
   "cell_type": "code",
   "execution_count": 11,
   "metadata": {},
   "outputs": [
    {
     "data": {
      "text/plain": [
       "5"
      ]
     },
     "execution_count": 11,
     "metadata": {},
     "output_type": "execute_result"
    }
   ],
   "source": [
    "TT.max_()"
   ]
  },
  {
   "cell_type": "code",
   "execution_count": 12,
   "metadata": {},
   "outputs": [
    {
     "data": {
      "text/plain": [
       "2"
      ]
     },
     "execution_count": 12,
     "metadata": {},
     "output_type": "execute_result"
    }
   ],
   "source": [
    "TT.min_()"
   ]
  },
  {
   "cell_type": "code",
   "execution_count": null,
   "metadata": {},
   "outputs": [],
   "source": [
    "class B:\n",
    "    def __init__(self):\n",
    "        pass\n",
    "    def input_(self):\n",
    "        num=eval(input('>>'))\n",
    "        return num\n",
    "    def square(self):\n",
    "        num=self.input_()\n",
    "        num_2=num**2\n",
    "        return num_2\n",
    "    def chazhi(self):\n",
    "        num=self.input_()\n",
    "        num2=self.square()\n",
    "        return num2-num"
   ]
  },
  {
   "cell_type": "code",
   "execution_count": null,
   "metadata": {},
   "outputs": [],
   "source": [
    "#def要分别运行三遍\n",
    "class B:\n",
    "    def __init__(self):\n",
    "        pass\n",
    "    def input_(self):\n",
    "        self.num=eval(input('>>'))\n",
    "    def square(self):\n",
    "        self.num_2=self.num**2\n",
    "    def chazhi(self):\n",
    "        res=self.num_2-self.num"
   ]
  },
  {
   "cell_type": "code",
   "execution_count": null,
   "metadata": {},
   "outputs": [],
   "source": [
    "WW=B()"
   ]
  },
  {
   "cell_type": "code",
   "execution_count": null,
   "metadata": {},
   "outputs": [],
   "source": [
    "WW.input_()"
   ]
  },
  {
   "cell_type": "code",
   "execution_count": null,
   "metadata": {},
   "outputs": [],
   "source": [
    "zhanghao1=123456\n",
    "mima2=456789"
   ]
  },
  {
   "cell_type": "code",
   "execution_count": null,
   "metadata": {},
   "outputs": [],
   "source": [
    "class C:\n",
    "    def __init__(self):\n",
    "        pass\n",
    "    def zhanghao(self):\n",
    "        num1=eval(input('输入一个账号：'))\n",
    "        return num1\n",
    "    def mima(self):\n",
    "        num2=eval(input('输入一个密码：'))\n",
    "        if num2==mima2:\n",
    "            print('开始登录')\n",
    "        if num2!=mima2:\n",
    "            print('密码或账号错误')"
   ]
  },
  {
   "cell_type": "code",
   "execution_count": null,
   "metadata": {},
   "outputs": [],
   "source": [
    "NN=C()"
   ]
  },
  {
   "cell_type": "code",
   "execution_count": null,
   "metadata": {},
   "outputs": [],
   "source": [
    "NN.zhanghao()"
   ]
  },
  {
   "cell_type": "code",
   "execution_count": null,
   "metadata": {},
   "outputs": [],
   "source": [
    "class QQ:\n",
    "    def __init__(self):\n",
    "        self.account = '123'\n",
    "        self.password = '123'\n",
    "    def account_(self):\n",
    "        acc = input('account:>>')\n",
    "        passwor = input('password:>>')\n",
    "        if acc == self.account and self.password == passwor:\n",
    "            print('Success')\n",
    "        else:\n",
    "            self.yanzhengma()\n",
    "    def yanzhengma(self):\n",
    "        yanzheng = 'ppp'\n",
    "        print('验证码是:',yanzheng)\n",
    "        while 1:\n",
    "            N = input('请输入验证码:>>')\n",
    "            if N == yanzheng:\n",
    "                print('验证码正确')\n",
    "                print('账号或者密码错误')\n",
    "                break"
   ]
  },
  {
   "cell_type": "code",
   "execution_count": 1,
   "metadata": {},
   "outputs": [],
   "source": [
    "class QQ:\n",
    "    def __init__(self):\n",
    "        self.account = '123'\n",
    "        self.password = '123'\n",
    "    def account_(self):\n",
    "        acc = input('account:>>')\n",
    "        passwor = input('password:>>')\n",
    "        if acc == self.account and self.password == passwor:\n",
    "            print('Success')\n",
    "        else:\n",
    "            self.yanzhengma()\n",
    "    def yanzhengma(self):\n",
    "        pass"
   ]
  },
  {
   "cell_type": "code",
   "execution_count": 2,
   "metadata": {},
   "outputs": [],
   "source": [
    "qq = QQ()"
   ]
  },
  {
   "cell_type": "code",
   "execution_count": 3,
   "metadata": {},
   "outputs": [
    {
     "name": "stdout",
     "output_type": "stream",
     "text": [
      "account:>>799\n",
      "password:>>799\n"
     ]
    }
   ],
   "source": [
    "qq.account_()"
   ]
  },
  {
   "cell_type": "code",
   "execution_count": 4,
   "metadata": {},
   "outputs": [],
   "source": [
    "class fu(object):\n",
    "    def __init__(self):\n",
    "        self.a = 'a'\n",
    "        self.b = 'b'\n",
    "    def print_(self):\n",
    "        print('fu')"
   ]
  },
  {
   "cell_type": "code",
   "execution_count": null,
   "metadata": {},
   "outputs": [],
   "source": [
    "class zi(fu):"
   ]
  },
  {
   "cell_type": "markdown",
   "metadata": {},
   "source": [
    "## 类的继承\n",
    "- 类的单继承\n",
    "- 类的多继承\n",
    "- 继承标识\n",
    ">  class SonClass(FatherClass):\n",
    "            \n",
    "            def __init__(self):\n",
    "            \n",
    "                FatherClass.__init__(self)"
   ]
  },
  {
   "cell_type": "code",
   "execution_count": null,
   "metadata": {},
   "outputs": [],
   "source": [
    "class joker(object)#默认object基类，python2必须写"
   ]
  },
  {
   "cell_type": "code",
   "execution_count": 2,
   "metadata": {},
   "outputs": [],
   "source": [
    "class fu(object):\n",
    "    def __init__(self):\n",
    "        self.a='a'\n",
    "        self.b='b'\n",
    "    def print_(self):\n",
    "        print('fu')"
   ]
  },
  {
   "cell_type": "code",
   "execution_count": 3,
   "metadata": {},
   "outputs": [],
   "source": [
    "class zi(fu):\n",
    "    def __init__(self):\n",
    "        #告诉父类，子类即将继承父类\n",
    "        fu.__init__(self)\n",
    "    def haha(self):\n",
    "        print(self.a)"
   ]
  },
  {
   "cell_type": "code",
   "execution_count": 5,
   "metadata": {},
   "outputs": [],
   "source": [
    "class zi(fu):\n",
    "    def __init__(self):\n",
    "        #告诉父类，子类即将继承父类\n",
    "        fu.__init__(self)\n",
    "    def haha(self):\n",
    "        print(self.a)"
   ]
  },
  {
   "cell_type": "code",
   "execution_count": 6,
   "metadata": {},
   "outputs": [],
   "source": [
    "joker1=zi()"
   ]
  },
  {
   "cell_type": "code",
   "execution_count": 7,
   "metadata": {},
   "outputs": [
    {
     "name": "stdout",
     "output_type": "stream",
     "text": [
      "a\n"
     ]
    }
   ],
   "source": [
    "joker1.haha()"
   ]
  },
  {
   "cell_type": "markdown",
   "metadata": {},
   "source": [
    "## 私有数据域(私有变量，或者私有函数)\n",
    "- 在Python中 变量名或者函数名使用双下划线代表私有  \\__Joker,   def \\__Joker():\n",
    "- 私有数据域不可继承\n",
    "- 私有数据域强制继承   \\__dir__()"
   ]
  },
  {
   "cell_type": "markdown",
   "metadata": {},
   "source": [
    "私有变量，不可继承，不可在外部调用，但是可以在内部使用。"
   ]
  },
  {
   "cell_type": "code",
   "execution_count": 1,
   "metadata": {},
   "outputs": [],
   "source": [
    "class A:\n",
    "    def __init__(self):\n",
    "        self.__a = 'a'\n",
    "    def a_(self):\n",
    "        print('aa')"
   ]
  },
  {
   "cell_type": "code",
   "execution_count": 2,
   "metadata": {},
   "outputs": [
    {
     "data": {
      "text/plain": [
       "'a'"
      ]
     },
     "execution_count": 2,
     "metadata": {},
     "output_type": "execute_result"
    }
   ],
   "source": [
    "aa = A()\n",
    "aa._A__a"
   ]
  },
  {
   "cell_type": "code",
   "execution_count": 3,
   "metadata": {},
   "outputs": [],
   "source": [
    "class A:\n",
    "    def __init__(self):\n",
    "        self.__a = 'a'\n",
    "    def a_(self):\n",
    "        print('aa')\n",
    "        print(self.__a)"
   ]
  },
  {
   "cell_type": "code",
   "execution_count": 4,
   "metadata": {},
   "outputs": [
    {
     "name": "stdout",
     "output_type": "stream",
     "text": [
      "aa\n",
      "a\n"
     ]
    }
   ],
   "source": [
    "aa =A()\n",
    "aa.a_()"
   ]
  },
  {
   "cell_type": "markdown",
   "metadata": {},
   "source": [
    "![](../Photo/87.png)"
   ]
  },
  {
   "cell_type": "markdown",
   "metadata": {},
   "source": [
    "## EP:\n",
    "![](../Photo/88.png)\n",
    "![](../Photo/89.png)\n",
    "![](../Photo/90.png)\n"
   ]
  },
  {
   "cell_type": "markdown",
   "metadata": {},
   "source": [
    "防止出错"
   ]
  },
  {
   "cell_type": "markdown",
   "metadata": {},
   "source": [
    "## 类的其他\n",
    "- 类的封装\n",
    "    - 实际上就是将一类功能放在一起，方便未来进行管理\n",
    "- 类的继承（上面已经讲过）\n",
    "- 类的多态\n",
    "    - 包括装饰器：将放在以后处理高级类中教\n",
    "    - 装饰器的好处：当许多类中的函数需要使用同一个功能的时候，那么使用装饰器就会方便许多\n",
    "    - 装饰器是有固定的写法\n",
    "        - 其包括普通装饰器与带参装饰器"
   ]
  },
  {
   "cell_type": "code",
   "execution_count": null,
   "metadata": {},
   "outputs": [],
   "source": []
  },
  {
   "cell_type": "markdown",
   "metadata": {},
   "source": [
    "# Homewor\n",
    "## UML类图可以不用画\n",
    "## UML 实际上就是一个思维图\n",
    "- 1\n",
    "![](../Photo/91.png)"
   ]
  },
  {
   "cell_type": "code",
   "execution_count": 8,
   "metadata": {},
   "outputs": [],
   "source": [
    "class ztx:\n",
    "    def __init__(self,num1,num2):\n",
    "        print('初始化')\n",
    "        self.num1=num1\n",
    "        self.num2=num2\n",
    "    def zhouchang(self):\n",
    "        return self.num1*2+self.num2*2\n",
    "    def mianji(self):\n",
    "        return self.num1*self.num2"
   ]
  },
  {
   "cell_type": "code",
   "execution_count": 9,
   "metadata": {},
   "outputs": [
    {
     "name": "stdout",
     "output_type": "stream",
     "text": [
      "初始化\n"
     ]
    }
   ],
   "source": [
    "aa = ztx(6,5)"
   ]
  },
  {
   "cell_type": "code",
   "execution_count": 10,
   "metadata": {},
   "outputs": [
    {
     "data": {
      "text/plain": [
       "22"
      ]
     },
     "execution_count": 10,
     "metadata": {},
     "output_type": "execute_result"
    }
   ],
   "source": [
    "aa.zhouchang()"
   ]
  },
  {
   "cell_type": "code",
   "execution_count": 11,
   "metadata": {},
   "outputs": [
    {
     "data": {
      "text/plain": [
       "30"
      ]
     },
     "execution_count": 11,
     "metadata": {},
     "output_type": "execute_result"
    }
   ],
   "source": [
    "aa.mianji()"
   ]
  },
  {
   "cell_type": "code",
   "execution_count": null,
   "metadata": {},
   "outputs": [],
   "source": []
  },
  {
   "cell_type": "markdown",
   "metadata": {},
   "source": [
    "- 2\n",
    "![](../Photo/92.png)"
   ]
  },
  {
   "cell_type": "code",
   "execution_count": 8,
   "metadata": {},
   "outputs": [],
   "source": [
    "class Account:\n",
    "    def __init__(self,id_,ba_,yearlilu_):\n",
    "        self.__id_=id_\n",
    "        self.__ba_=ba_\n",
    "        self.__yearlilu_ = yearlilu_\n",
    "    def lilu(self):\n",
    "        self.lilu_ = self.__ba_ * self.__yearlilu_/12/100\n",
    "        return self.lilu_\n",
    "    def lixi(self):\n",
    "        self.lixi_ = self.__ba_ * self.__yearlilu_\n",
    "        return self.lixi_\n",
    "    def witharaw(self):\n",
    "        jine = eval(input('>>'))\n",
    "        return jine\n",
    "    def depoist(self):\n",
    "        quqian = eval(input('>>'))\n",
    "        return quqian"
   ]
  },
  {
   "cell_type": "code",
   "execution_count": 9,
   "metadata": {},
   "outputs": [],
   "source": [
    "ztx=Account(1122,20000,4.5)"
   ]
  },
  {
   "cell_type": "code",
   "execution_count": 10,
   "metadata": {},
   "outputs": [
    {
     "data": {
      "text/plain": [
       "75.0"
      ]
     },
     "execution_count": 10,
     "metadata": {},
     "output_type": "execute_result"
    }
   ],
   "source": [
    "ztx.lilu()"
   ]
  },
  {
   "cell_type": "markdown",
   "metadata": {},
   "source": [
    "- 3\n",
    "![](../Photo/93.png)"
   ]
  },
  {
   "cell_type": "markdown",
   "metadata": {},
   "source": [
    "- 4\n",
    "![](../Photo/94.png)\n",
    "![](../Photo/95.png)"
   ]
  },
  {
   "cell_type": "code",
   "execution_count": 15,
   "metadata": {},
   "outputs": [],
   "source": [
    "import math\n",
    "class Point():\n",
    "    def __init__(self):\n",
    "        pass\n",
    "    def input_(self):\n",
    "        num = eval(input('>>'))\n",
    "        return num\n",
    "    def zhouchang_(self):\n",
    "        num = self.input_()\n",
    "        num_2 = num\n",
    "        return num_2\n",
    "    def mianji(self):\n",
    "        num = self.input_()\n",
    "        d = num /(4 * math.tan(math.pi/5))\n",
    "        return d"
   ]
  },
  {
   "cell_type": "code",
   "execution_count": 16,
   "metadata": {},
   "outputs": [],
   "source": [
    "zz=Point()"
   ]
  },
  {
   "cell_type": "code",
   "execution_count": 17,
   "metadata": {},
   "outputs": [
    {
     "name": "stdout",
     "output_type": "stream",
     "text": [
      ">>6\n"
     ]
    },
    {
     "data": {
      "text/plain": [
       "6"
      ]
     },
     "execution_count": 17,
     "metadata": {},
     "output_type": "execute_result"
    }
   ],
   "source": [
    "zz.input_()"
   ]
  },
  {
   "cell_type": "code",
   "execution_count": 18,
   "metadata": {},
   "outputs": [
    {
     "name": "stdout",
     "output_type": "stream",
     "text": [
      ">>3\n"
     ]
    },
    {
     "data": {
      "text/plain": [
       "3"
      ]
     },
     "execution_count": 18,
     "metadata": {},
     "output_type": "execute_result"
    }
   ],
   "source": [
    "zz.zhouchang_()"
   ]
  },
  {
   "cell_type": "code",
   "execution_count": 20,
   "metadata": {},
   "outputs": [
    {
     "name": "stdout",
     "output_type": "stream",
     "text": [
      ">>2\n"
     ]
    },
    {
     "data": {
      "text/plain": [
       "0.6881909602355869"
      ]
     },
     "execution_count": 20,
     "metadata": {},
     "output_type": "execute_result"
    }
   ],
   "source": [
    "zz.mianji()"
   ]
  },
  {
   "cell_type": "markdown",
   "metadata": {},
   "source": [
    "- 5\n",
    "![](../Photo/96.png)"
   ]
  },
  {
   "cell_type": "markdown",
   "metadata": {},
   "source": [
    "- 6\n",
    "![](../Photo/97.png)"
   ]
  },
  {
   "cell_type": "markdown",
   "metadata": {},
   "source": [
    "- 7\n",
    "![](../Photo/98.png)"
   ]
  },
  {
   "cell_type": "code",
   "execution_count": null,
   "metadata": {},
   "outputs": [],
   "source": []
  },
  {
   "cell_type": "code",
   "execution_count": null,
   "metadata": {},
   "outputs": [],
   "source": []
  }
 ],
 "metadata": {
  "kernelspec": {
   "display_name": "Python 3",
   "language": "python",
   "name": "python3"
  },
  "language_info": {
   "codemirror_mode": {
    "name": "ipython",
    "version": 3
   },
   "file_extension": ".py",
   "mimetype": "text/x-python",
   "name": "python",
   "nbconvert_exporter": "python",
   "pygments_lexer": "ipython3",
   "version": "3.7.3"
  }
 },
 "nbformat": 4,
 "nbformat_minor": 2
}
